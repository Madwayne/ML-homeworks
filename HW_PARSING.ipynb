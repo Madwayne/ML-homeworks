{
 "cells": [
  {
   "cell_type": "code",
   "execution_count": 1,
   "metadata": {
    "ExecuteTime": {
     "end_time": "2020-05-16T15:12:18.652350Z",
     "start_time": "2020-05-16T15:12:17.387979Z"
    }
   },
   "outputs": [],
   "source": [
    "import requests\n",
    "from bs4 import BeautifulSoup\n",
    "import pandas as pd"
   ]
  },
  {
   "cell_type": "markdown",
   "metadata": {},
   "source": [
    "# Предисловие"
   ]
  },
  {
   "cell_type": "markdown",
   "metadata": {},
   "source": [
    "Для парсинга был выбран сайт Drom.ru, а именно его владивостокский субдомен"
   ]
  },
  {
   "cell_type": "markdown",
   "metadata": {},
   "source": [
    "С сайтом очень повезло - не потребовался даже фэйковый юзерагент, сервер покорно отдаёт страницы питону"
   ]
  },
  {
   "cell_type": "markdown",
   "metadata": {},
   "source": [
    "Вытягивать будем информацию из объявлений о продаже автомобилей, но не всю, а только ключевые атрибуты, которые содержатся прямо в списке объявлений (не очень хочется нагружать сайт открытием каждого объявления, да и для учебного задания имеющейся информации вполне достаточно)"
   ]
  },
  {
   "cell_type": "markdown",
   "metadata": {},
   "source": [
    "# Получение списка объявлений"
   ]
  },
  {
   "cell_type": "markdown",
   "metadata": {},
   "source": [
    "Сперва обернём в функцию логику получения списка объявлений на странице"
   ]
  },
  {
   "cell_type": "code",
   "execution_count": 2,
   "metadata": {
    "ExecuteTime": {
     "end_time": "2020-05-16T15:12:18.670300Z",
     "start_time": "2020-05-16T15:12:18.655309Z"
    }
   },
   "outputs": [],
   "source": [
    "def get_ads_list(page_number):\n",
    "    # задаём ссылку на страницу\n",
    "    page_link = f'https://vladivostok.drom.ru/auto/all/page{page_number}'\n",
    "    \n",
    "    # пытаемся получить ответ сервера по ссылке. В случсе неудачи - возвращаем пустой список объявлений\n",
    "    response = requests.get(page_link)\n",
    "    if not response.ok:\n",
    "        return [] \n",
    "    \n",
    "    # в случае успешного получения ответа - берём код полченной страницы и преобразуем его в bs4\n",
    "    html = response.content\n",
    "    soup = BeautifulSoup(html,'html.parser')\n",
    "    \n",
    "    # получаем из струткуры страницы список объявлений (20 шт)\n",
    "    ads = soup.findAll('div', class_='b-advItem__inner')\n",
    "    \n",
    "    return ads"
   ]
  },
  {
   "cell_type": "markdown",
   "metadata": {},
   "source": [
    "# Получение атрибутов объявления"
   ]
  },
  {
   "cell_type": "markdown",
   "metadata": {},
   "source": [
    "Далее набросаем маленькие функции для получения отдельных атрибутов объявления, чтобы потом их использовать в цикле по списку объявлений"
   ]
  },
  {
   "cell_type": "code",
   "execution_count": 3,
   "metadata": {
    "ExecuteTime": {
     "end_time": "2020-05-16T15:12:18.704283Z",
     "start_time": "2020-05-16T15:12:18.675297Z"
    }
   },
   "outputs": [],
   "source": [
    "def get_model(ad):\n",
    "    # разбираем заголовок объявления, получем модель\n",
    "    title = ad.find('div', class_='b-advItem__title')\n",
    "    model = title.text[:-6]\n",
    "    return model\n",
    "\n",
    "def get_year(ad):\n",
    "    # разбираем заголовок объявления, получем год выпуска\n",
    "    title = ad.find('div', class_='b-advItem__title')\n",
    "    year = title.text[-4:]\n",
    "    return year\n",
    "\n",
    "def get_volume(ad):\n",
    "    # разбираем первую строку из блока характеристик, получем объём двигателя\n",
    "    volume_power = ad.find('div', attrs = {'data-ftid':'sales__bulls-item_volume-power'})\n",
    "    if volume_power:\n",
    "        volume = ''.join([n for n in volume_power.contents[0] if n.isdigit()])\n",
    "        volume = float(volume[:-1]+'.'+volume[-1:])\n",
    "    else:\n",
    "        volume = ''\n",
    "    return volume\n",
    "\n",
    "def get_power(ad):\n",
    "    # разбираем первую строку из блока характеристик, получем мощность двигателя\n",
    "    volume_power = ad.find('div', attrs = {'data-ftid':'sales__bulls-item_volume-power'})\n",
    "    power = int(''.join([n for n in volume_power.span.text if n.isdigit()])) if volume_power else ''\n",
    "    return power\n",
    "\n",
    "def get_fuel(ad):\n",
    "    # разбираем вторую строку из блока характеристик, получем топливо\n",
    "    fuel = ad.find('div', attrs = {'data-ftid':'sales__bulls-item_fueltype'})\n",
    "    fuel = fuel.text if fuel else 'гибрид'\n",
    "    return fuel\n",
    "\n",
    "def get_transmission(ad):\n",
    "    # разбираем третью строку из блока характеристик, получаем трансмиссию\n",
    "    transm = ad.find('div', attrs = {'data-ftid':'sales__bulls-item_transmission'})\n",
    "    transm = transm.text if transm else ''\n",
    "    return transm\n",
    "\n",
    "def get_weeldrive(ad):\n",
    "    # разбираем четвёртую строку из блока характеристик, получаем привод\n",
    "    wd = ad.find('div', attrs = {'data-ftid':'sales__bulls-item_privod'})\n",
    "    wd = wd.text if wd else ''\n",
    "    return wd\n",
    "\n",
    "def get_mileage(ad):\n",
    "    # разбираем пятую строку из блока характеристик, получаем пробег\n",
    "    miles = ad.find('div', attrs = {'data-ftid':'sales__bulls-item_mileage'})\n",
    "    miles = int(''.join([n for n in miles.text if n.isdigit()])) if miles else ''\n",
    "    return miles\n",
    "\n",
    "def get_price(ad):\n",
    "    # разбираем правый блок, получаем цену\n",
    "    price = ad.find(lambda tag: tag.name == 'div' and tag.get('class') == ['b-advItem__price'])\n",
    "    price = int(price.text.strip().replace('\\xa0','')[:-1])\n",
    "    return price"
   ]
  },
  {
   "cell_type": "markdown",
   "metadata": {},
   "source": [
    "# Получение содержимого по списку объявлений"
   ]
  },
  {
   "cell_type": "markdown",
   "metadata": {},
   "source": [
    "Здесь у нас функция, которая возвращает промежуточный датафрейм с информацией из объявлений на текущей странице"
   ]
  },
  {
   "cell_type": "code",
   "execution_count": 4,
   "metadata": {
    "ExecuteTime": {
     "end_time": "2020-05-16T15:12:18.724269Z",
     "start_time": "2020-05-16T15:12:18.708278Z"
    }
   },
   "outputs": [],
   "source": [
    "def get_ads_content(ads_list):\n",
    "    ads_df = pd.DataFrame()\n",
    "    for ad in ads_list:\n",
    "        ad_row = {'model_name':get_model(ad),\n",
    "                  'year_prduction':get_year(ad),\n",
    "                  'engine_volume':get_volume(ad),\n",
    "                  'engine_power':get_power(ad),\n",
    "                  'fuel_type':get_fuel(ad),\n",
    "                  'transmission':get_transmission(ad),\n",
    "                  'driving_wheels':get_weeldrive(ad),\n",
    "                  'mileage': get_mileage(ad),\n",
    "                  'price':get_price(ad)}\n",
    "        ads_df = ads_df.append(ad_row, ignore_index=True)\n",
    "    return ads_df"
   ]
  },
  {
   "cell_type": "markdown",
   "metadata": {},
   "source": [
    "# Собственно парсинг"
   ]
  },
  {
   "cell_type": "code",
   "execution_count": 5,
   "metadata": {
    "ExecuteTime": {
     "end_time": "2020-05-16T15:14:19.261644Z",
     "start_time": "2020-05-16T15:12:18.730268Z"
    }
   },
   "outputs": [
    {
     "data": {
      "text/html": [
       "<div>\n",
       "<style scoped>\n",
       "    .dataframe tbody tr th:only-of-type {\n",
       "        vertical-align: middle;\n",
       "    }\n",
       "\n",
       "    .dataframe tbody tr th {\n",
       "        vertical-align: top;\n",
       "    }\n",
       "\n",
       "    .dataframe thead th {\n",
       "        text-align: right;\n",
       "    }\n",
       "</style>\n",
       "<table border=\"1\" class=\"dataframe\">\n",
       "  <thead>\n",
       "    <tr style=\"text-align: right;\">\n",
       "      <th></th>\n",
       "      <th>driving_wheels</th>\n",
       "      <th>engine_power</th>\n",
       "      <th>engine_volume</th>\n",
       "      <th>fuel_type</th>\n",
       "      <th>mileage</th>\n",
       "      <th>model_name</th>\n",
       "      <th>price</th>\n",
       "      <th>transmission</th>\n",
       "      <th>year_prduction</th>\n",
       "    </tr>\n",
       "  </thead>\n",
       "  <tbody>\n",
       "    <tr>\n",
       "      <th>0</th>\n",
       "      <td>передний</td>\n",
       "      <td>98</td>\n",
       "      <td>1.2</td>\n",
       "      <td>бензин</td>\n",
       "      <td></td>\n",
       "      <td>Nissan Note</td>\n",
       "      <td>390000.0</td>\n",
       "      <td>автомат</td>\n",
       "      <td>2012</td>\n",
       "    </tr>\n",
       "    <tr>\n",
       "      <th>1</th>\n",
       "      <td>передний</td>\n",
       "      <td>150</td>\n",
       "      <td>1.5</td>\n",
       "      <td>бензин</td>\n",
       "      <td></td>\n",
       "      <td>Honda Stepwgn</td>\n",
       "      <td>1159000.0</td>\n",
       "      <td>автомат</td>\n",
       "      <td>2015</td>\n",
       "    </tr>\n",
       "    <tr>\n",
       "      <th>2</th>\n",
       "      <td>4WD</td>\n",
       "      <td>109</td>\n",
       "      <td>1.5</td>\n",
       "      <td>бензин</td>\n",
       "      <td>120</td>\n",
       "      <td>Nissan Wingroad</td>\n",
       "      <td>419000.0</td>\n",
       "      <td>автомат</td>\n",
       "      <td>2011</td>\n",
       "    </tr>\n",
       "    <tr>\n",
       "      <th>3</th>\n",
       "      <td>4WD</td>\n",
       "      <td>235</td>\n",
       "      <td>4.7</td>\n",
       "      <td>бензин</td>\n",
       "      <td></td>\n",
       "      <td>Toyota Land Cruiser</td>\n",
       "      <td>950000.0</td>\n",
       "      <td>автомат</td>\n",
       "      <td>1999</td>\n",
       "    </tr>\n",
       "    <tr>\n",
       "      <th>4</th>\n",
       "      <td>4WD</td>\n",
       "      <td>270</td>\n",
       "      <td>4.7</td>\n",
       "      <td>бензин</td>\n",
       "      <td>180</td>\n",
       "      <td>Lexus GX470</td>\n",
       "      <td>1250000.0</td>\n",
       "      <td>автомат</td>\n",
       "      <td>2005</td>\n",
       "    </tr>\n",
       "    <tr>\n",
       "      <th>...</th>\n",
       "      <td>...</td>\n",
       "      <td>...</td>\n",
       "      <td>...</td>\n",
       "      <td>...</td>\n",
       "      <td>...</td>\n",
       "      <td>...</td>\n",
       "      <td>...</td>\n",
       "      <td>...</td>\n",
       "      <td>...</td>\n",
       "    </tr>\n",
       "    <tr>\n",
       "      <th>15</th>\n",
       "      <td>4WD</td>\n",
       "      <td>122</td>\n",
       "      <td>2.4</td>\n",
       "      <td>дизель</td>\n",
       "      <td>128</td>\n",
       "      <td>Land Rover Defender</td>\n",
       "      <td>900000.0</td>\n",
       "      <td>механика</td>\n",
       "      <td>2008</td>\n",
       "    </tr>\n",
       "    <tr>\n",
       "      <th>16</th>\n",
       "      <td>4WD</td>\n",
       "      <td>263</td>\n",
       "      <td>3.5</td>\n",
       "      <td>бензин</td>\n",
       "      <td></td>\n",
       "      <td>Acura MDX</td>\n",
       "      <td>300000.0</td>\n",
       "      <td>автомат</td>\n",
       "      <td>2001</td>\n",
       "    </tr>\n",
       "    <tr>\n",
       "      <th>17</th>\n",
       "      <td>4WD</td>\n",
       "      <td>109</td>\n",
       "      <td>1.5</td>\n",
       "      <td>бензин</td>\n",
       "      <td>99</td>\n",
       "      <td>Nissan Wingroad</td>\n",
       "      <td>555000.0</td>\n",
       "      <td>автомат</td>\n",
       "      <td>2012</td>\n",
       "    </tr>\n",
       "    <tr>\n",
       "      <th>18</th>\n",
       "      <td>4WD</td>\n",
       "      <td>147</td>\n",
       "      <td>2</td>\n",
       "      <td>гибрид</td>\n",
       "      <td>80</td>\n",
       "      <td>Nissan X-Trail</td>\n",
       "      <td>1270000.0</td>\n",
       "      <td>автомат</td>\n",
       "      <td>2015</td>\n",
       "    </tr>\n",
       "    <tr>\n",
       "      <th>19</th>\n",
       "      <td>4WD</td>\n",
       "      <td>170</td>\n",
       "      <td>2.4</td>\n",
       "      <td>бензин</td>\n",
       "      <td>115</td>\n",
       "      <td>Mitsubishi Delica D:5</td>\n",
       "      <td>945000.0</td>\n",
       "      <td>автомат</td>\n",
       "      <td>2011</td>\n",
       "    </tr>\n",
       "  </tbody>\n",
       "</table>\n",
       "<p>2000 rows × 9 columns</p>\n",
       "</div>"
      ],
      "text/plain": [
       "   driving_wheels engine_power engine_volume fuel_type mileage  \\\n",
       "0        передний           98           1.2    бензин           \n",
       "1        передний          150           1.5    бензин           \n",
       "2             4WD          109           1.5    бензин     120   \n",
       "3             4WD          235           4.7    бензин           \n",
       "4             4WD          270           4.7    бензин     180   \n",
       "..            ...          ...           ...       ...     ...   \n",
       "15            4WD          122           2.4    дизель     128   \n",
       "16            4WD          263           3.5    бензин           \n",
       "17            4WD          109           1.5    бензин      99   \n",
       "18            4WD          147             2    гибрид      80   \n",
       "19            4WD          170           2.4    бензин     115   \n",
       "\n",
       "               model_name      price transmission year_prduction  \n",
       "0             Nissan Note   390000.0      автомат           2012  \n",
       "1           Honda Stepwgn  1159000.0      автомат           2015  \n",
       "2         Nissan Wingroad   419000.0      автомат           2011  \n",
       "3     Toyota Land Cruiser   950000.0      автомат           1999  \n",
       "4             Lexus GX470  1250000.0      автомат           2005  \n",
       "..                    ...        ...          ...            ...  \n",
       "15    Land Rover Defender   900000.0     механика           2008  \n",
       "16              Acura MDX   300000.0      автомат           2001  \n",
       "17        Nissan Wingroad   555000.0      автомат           2012  \n",
       "18         Nissan X-Trail  1270000.0      автомат           2015  \n",
       "19  Mitsubishi Delica D:5   945000.0      автомат           2011  \n",
       "\n",
       "[2000 rows x 9 columns]"
      ]
     },
     "execution_count": 5,
     "metadata": {},
     "output_type": "execute_result"
    }
   ],
   "source": [
    "pages = 100\n",
    "result_df = pd.DataFrame()\n",
    "\n",
    "for page in range(pages):\n",
    "    result_df = result_df.append(get_ads_content(get_ads_list(page)))\n",
    "result_df"
   ]
  },
  {
   "cell_type": "markdown",
   "metadata": {
    "ExecuteTime": {
     "end_time": "2020-05-16T15:16:52.719624Z",
     "start_time": "2020-05-16T15:16:52.712629Z"
    }
   },
   "source": [
    "Получили вполне себе юзабельный датасет"
   ]
  }
 ],
 "metadata": {
  "kernelspec": {
   "display_name": "Python 3",
   "language": "python",
   "name": "python3"
  },
  "language_info": {
   "codemirror_mode": {
    "name": "ipython",
    "version": 3
   },
   "file_extension": ".py",
   "mimetype": "text/x-python",
   "name": "python",
   "nbconvert_exporter": "python",
   "pygments_lexer": "ipython3",
   "version": "3.7.6"
  },
  "toc": {
   "base_numbering": 1,
   "nav_menu": {},
   "number_sections": true,
   "sideBar": true,
   "skip_h1_title": false,
   "title_cell": "Table of Contents",
   "title_sidebar": "Contents",
   "toc_cell": false,
   "toc_position": {},
   "toc_section_display": true,
   "toc_window_display": true
  },
  "varInspector": {
   "cols": {
    "lenName": 16,
    "lenType": 16,
    "lenVar": 40
   },
   "kernels_config": {
    "python": {
     "delete_cmd_postfix": "",
     "delete_cmd_prefix": "del ",
     "library": "var_list.py",
     "varRefreshCmd": "print(var_dic_list())"
    },
    "r": {
     "delete_cmd_postfix": ") ",
     "delete_cmd_prefix": "rm(",
     "library": "var_list.r",
     "varRefreshCmd": "cat(var_dic_list()) "
    }
   },
   "types_to_exclude": [
    "module",
    "function",
    "builtin_function_or_method",
    "instance",
    "_Feature"
   ],
   "window_display": false
  }
 },
 "nbformat": 4,
 "nbformat_minor": 4
}
