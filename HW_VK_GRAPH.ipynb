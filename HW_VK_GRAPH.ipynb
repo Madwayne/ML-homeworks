{
 "cells": [
  {
   "cell_type": "code",
   "execution_count": 1,
   "metadata": {
    "ExecuteTime": {
     "end_time": "2020-07-05T10:57:04.701454Z",
     "start_time": "2020-07-05T10:57:02.917542Z"
    }
   },
   "outputs": [],
   "source": [
    "import vk_api\n",
    "import json\n",
    "from pyvis.network import Network"
   ]
  },
  {
   "cell_type": "code",
   "execution_count": 2,
   "metadata": {
    "ExecuteTime": {
     "end_time": "2020-07-05T10:57:04.711406Z",
     "start_time": "2020-07-05T10:57:04.705409Z"
    }
   },
   "outputs": [],
   "source": [
    "login, password = 'your_login', 'your_password'"
   ]
  },
  {
   "cell_type": "code",
   "execution_count": 4,
   "metadata": {
    "ExecuteTime": {
     "end_time": "2020-07-05T10:57:05.229972Z",
     "start_time": "2020-07-05T10:57:04.728398Z"
    },
    "scrolled": false
   },
   "outputs": [],
   "source": [
    "# получаем код аутентификации и доступ к api Вконтакте\n",
    "vk_session = vk_api.VkApi(login, password)\n",
    "\n",
    "try:\n",
    "    vk_session.auth(token_only=True)\n",
    "except vk_api.AuthError as error_msg:\n",
    "    print(error_msg)\n",
    "\n",
    "vk = vk_session.get_api()"
   ]
  },
  {
   "cell_type": "code",
   "execution_count": 5,
   "metadata": {
    "ExecuteTime": {
     "end_time": "2020-07-05T10:57:05.882931Z",
     "start_time": "2020-07-05T10:57:05.232952Z"
    },
    "scrolled": false
   },
   "outputs": [],
   "source": [
    "# запрашиваем список друзей пользователя с указанным id\n",
    "# указываем какое-нибудь дополнительное поле, \n",
    "# чтобы вернулся список объектов с общедоступными атрибутами, а не список id\n",
    "my_id = '43739454'\n",
    "my_friends_dict = vk.friends.get(user_id=my_id, order='hints', fields='sex')"
   ]
  },
  {
   "cell_type": "code",
   "execution_count": 6,
   "metadata": {
    "ExecuteTime": {
     "end_time": "2020-07-05T10:58:54.733717Z",
     "start_time": "2020-07-05T10:57:05.886873Z"
    }
   },
   "outputs": [],
   "source": [
    "# порождаем объект Network для визуализации графа, адаптируем под Jupiter Notebook\n",
    "graph_vis = Network(width=700, height=400, notebook=True)\n",
    "\n",
    "# проходим по полученному списку друзей и добавляем каждый элемент в вершину графа\n",
    "for item in my_friends_dict['items']:\n",
    "    graph_vis.add_node(item.get('id'), item.get('first_name') + '\\n' + item.get('last_name'))\n",
    "\n",
    "my_friends_ids = [friend.get('id') for friend in my_friends_dict['items']]\n",
    "\n",
    "# проходим по полученному списку друзей и запрашиваем друзей для каждого активного пользователя\n",
    "# во вложенном цикле проверяем наличие \"дргуа друга\" в изначальном списке друзей и добавлем ребро графа\n",
    "for friend in my_friends_dict['items']:\n",
    "   if not friend.get('deactivated'):\n",
    "        friend_friends_dict = vk.friends.get(user_id=friend.get('id'), order='hints', fields='sex')\n",
    "        for subfriend in friend_friends_dict['items']:\n",
    "            if subfriend.get('id') in my_friends_ids:\n",
    "                graph_vis.add_edge(friend.get('id'), subfriend.get('id'))"
   ]
  },
  {
   "cell_type": "code",
   "execution_count": 7,
   "metadata": {
    "ExecuteTime": {
     "end_time": "2020-07-05T10:58:54.774675Z",
     "start_time": "2020-07-05T10:58:54.737696Z"
    }
   },
   "outputs": [
    {
     "data": {
      "text/html": [
       "\n",
       "        <iframe\n",
       "            width=\"700\"\n",
       "            height=\"400\"\n",
       "            src=\"example.html\"\n",
       "            frameborder=\"0\"\n",
       "            allowfullscreen\n",
       "        ></iframe>\n",
       "        "
      ],
      "text/plain": [
       "<IPython.lib.display.IFrame at 0x152dd1954c8>"
      ]
     },
     "execution_count": 7,
     "metadata": {},
     "output_type": "execute_result"
    }
   ],
   "source": [
    "# визуализируем интерактивный граф\n",
    "# под графом отобразим панель настроек: можно покрутить и сохранить подходящую конфигурацию\n",
    "graph_vis.show_buttons()\n",
    "graph_vis.show('example.html')"
   ]
  },
  {
   "cell_type": "code",
   "execution_count": null,
   "metadata": {},
   "outputs": [],
   "source": [
    "#на полученном графе довольно чётко выражены отдельные группы пользователей, соответствующие кругам общения"
   ]
  }
 ],
 "metadata": {
  "kernelspec": {
   "display_name": "Python 3",
   "language": "python",
   "name": "python3"
  },
  "language_info": {
   "codemirror_mode": {
    "name": "ipython",
    "version": 3
   },
   "file_extension": ".py",
   "mimetype": "text/x-python",
   "name": "python",
   "nbconvert_exporter": "python",
   "pygments_lexer": "ipython3",
   "version": "3.7.6"
  },
  "toc": {
   "base_numbering": 1,
   "nav_menu": {},
   "number_sections": true,
   "sideBar": true,
   "skip_h1_title": false,
   "title_cell": "Table of Contents",
   "title_sidebar": "Contents",
   "toc_cell": false,
   "toc_position": {
    "height": "calc(100% - 180px)",
    "left": "10px",
    "top": "150px",
    "width": "165px"
   },
   "toc_section_display": true,
   "toc_window_display": true
  },
  "varInspector": {
   "cols": {
    "lenName": 16,
    "lenType": 16,
    "lenVar": 40
   },
   "kernels_config": {
    "python": {
     "delete_cmd_postfix": "",
     "delete_cmd_prefix": "del ",
     "library": "var_list.py",
     "varRefreshCmd": "print(var_dic_list())"
    },
    "r": {
     "delete_cmd_postfix": ") ",
     "delete_cmd_prefix": "rm(",
     "library": "var_list.r",
     "varRefreshCmd": "cat(var_dic_list()) "
    }
   },
   "types_to_exclude": [
    "module",
    "function",
    "builtin_function_or_method",
    "instance",
    "_Feature"
   ],
   "window_display": false
  }
 },
 "nbformat": 4,
 "nbformat_minor": 4
}
